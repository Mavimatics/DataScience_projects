{
 "cells": [
  {
   "cell_type": "markdown",
   "id": "730b85c1",
   "metadata": {},
   "source": [
    "**Exercise 2: Create markdown cell with title of the notebook**\n",
    "\n",
    "Create a markdown cell with the title Data Science Tools and Ecosystem using H1 style heading.\n",
    "Take a screenshot of the markdown cell and name it as 2-title.png (Images can be saved with either the .jpg or .png extension.)"
   ]
  },
  {
   "cell_type": "markdown",
   "id": "8ca735cb",
   "metadata": {},
   "source": [
    "# Data Science Tools and Ecosystem"
   ]
  },
  {
   "cell_type": "markdown",
   "id": "a8a3011b",
   "metadata": {},
   "source": [
    "**Exercise 3 - Create a markdown cell for an introduction**\n",
    "\n",
    "Write an introductory sentence about the notebook such as the follows:\n",
    "\n",
    "In this notebook, Data Science Tools and Ecosystem are summarized.\n",
    "Take a screenshot of the markdown cell and name it as 3-intro.png (Images can be saved with either the .jpg or .png extension.)"
   ]
  },
  {
   "cell_type": "markdown",
   "id": "449a868c",
   "metadata": {},
   "source": [
    "### Introduction\n",
    "\n",
    "Welcome to the fascinating world of Data Science Tools and the dynamic Ecosystem that empowers this cutting-edge field  🚀. In this section, we will explore the diverse array of technologies, frameworks, and platforms that fuel the data-driven revolution. From powerful programming languages and libraries to sophisticated data visualization tools and robust machine learning frameworks, the Data Science ecosystem offers an ever-expanding toolkit to extract insights and value from vast amounts of data. Whether you're a seasoned data practitioner or just beginning your journey, join us as we delve into the essential tools and resources that underpin the transformational impact of Data Science on industries and society alike. Let's embark on a journey to discover the art and science of turning raw data into actionable knowledge."
   ]
  },
  {
   "cell_type": "markdown",
   "id": "95b5eff4",
   "metadata": {},
   "source": [
    "**Objectives**\n",
    "\n",
    "Below are some objectives of this notebook:\n",
    "\n",
    "* List of some of the popular languages for Data Science.\n",
    "* List of some of the popular libraries for Data Science.\n",
    "* A few examples of evaluating arithmetic expressions in Python."
   ]
  },
  {
   "cell_type": "markdown",
   "id": "befe36b8",
   "metadata": {},
   "source": [
    "**Exercise 4 - Create a markdown cell to list data science languages**\n",
    "\n",
    "Start the cell with an overview line such as:\n",
    "\n",
    "Some of the popular languages that Data Scientists use are:\n",
    "Then create an ordered list (i.e. numbered) listing 3 (or more) commonly used languages for data science.\n",
    "\n",
    "**Take a screenshot of the markdown cell and name it as 4-dslanguages.png (Images can be saved with either the .jpg or .png extension.)**"
   ]
  },
  {
   "cell_type": "markdown",
   "id": "f9c32900",
   "metadata": {},
   "source": [
    "#### Types of programming languages used in data science\n",
    "\n",
    "Data scientists use a variety of programming languages for different tasks in their work. Some of the most popular languages used in data science includes:\n",
    "\n",
    "1. Python: Python is perhaps the most widely used language in the data science community due to its simplicity, versatility, and rich ecosystem of libraries like NumPy, Pandas, Matplotlib, and scikit-learn.\n",
    "\n",
    "2. R: R is another popular language among statisticians and data scientists, known for its extensive statistical and data visualization capabilities.\n",
    "\n",
    "3. SQL: While not a general-purpose programming language, SQL (Structured Query Language) is crucial for working with databases and querying data, making it an essential tool in data science.\n",
    "\n",
    "4. Julia: Julia is gaining traction in the data science community for its high-performance capabilities and ease of use, particularly in numerical and scientific computing tasks.\n",
    "\n",
    "5. Scala: Scala is often used with Apache Spark, a popular big data processing framework, making it a preferred choice for large-scale data analytics and distributed computing.\n",
    "\n",
    "6. Java: Java is commonly used for building data-intensive applications and enterprise-level data processing tasks.\n",
    "\n",
    "\n",
    "Each language has its strengths and weaknesses, and data scientists often choose the most appropriate one depending on the nature of the task, their familiarity with the language, and the specific tools and libraries available in each ecosystem."
   ]
  },
  {
   "cell_type": "markdown",
   "id": "77d9bc7d",
   "metadata": {},
   "source": [
    "**Exercise 5 - Create a markdown cell to list data science libraries**\n",
    "\n",
    "Add an overview line to the cell like:\n",
    "\n",
    "Some of the commonly used libraries used by Data Scientists include:\n",
    "Below this line add an ordered list listing 3 (or more) commonly used libraries in data science.\n",
    "\n",
    "**Take a screenshot of the markdown cell and name it as 5-dslibraries.png (Images can be saved with either the .jpg or .png extension.)**"
   ]
  },
  {
   "cell_type": "markdown",
   "id": "3c532011",
   "metadata": {},
   "source": [
    "### Some common data science libraries\n",
    "\n",
    "There are numerous data science libraries available in various programming languages that empower data scientists to perform complex tasks efficiently. Some of the commonly used data science libraries include:\n",
    "\n",
    "**Python Libraries:**\n",
    "1. NumPy: Provides support for large, multi-dimensional arrays and matrices, along with mathematical functions to operate on these arrays.\n",
    "\n",
    "2. Pandas: Offers data manipulation and analysis tools, making it easy to work with structured data, such as data frames and time-series data.\n",
    "\n",
    "3. Matplotlib: A powerful plotting library for creating static, interactive, and publication-quality visualizations.\n",
    "\n",
    "4. seaborn: Built on top of Matplotlib, seaborn provides a high-level interface for creating attractive and informative statistical graphics.\n",
    "\n",
    "5. scikit-learn: A machine learning library offering various algorithms for classification, regression, clustering, and more.\n",
    "\n",
    "6. TensorFlow: Developed by Google, TensorFlow is an open-source library for deep learning, popularly used in building neural networks.\n",
    "\n",
    "7. Keras: A high-level neural networks API, built on top of TensorFlow, which simplifies the process of building and training deep learning models.\n",
    "\n",
    "8. PyTorch: A deep learning library widely used for research and development, known for its dynamic computation graph.\n",
    "\n",
    "**R Libraries:**\n",
    "1. ggplot2: A powerful data visualization library in R, based on the Grammar of Graphics principles.\n",
    "\n",
    "2. dplyr: Provides a set of functions for data manipulation, filtering, and summarization, making data wrangling easier.\n",
    "\n",
    "3. caret: An R package for training and evaluating machine learning models, providing a unified interface for various algorithms.\n",
    "\n",
    "\n",
    "**Other Libraries:**\n",
    "1. SQL (Structured Query Language): Although not a library, SQL is fundamental for database querying and data manipulation.\n",
    "\n",
    "2. Apache Spark: An open-source big data processing framework that provides efficient distributed data processing capabilities.\n",
    "\n",
    "3. Hadoop: Another big data framework that enables distributed storage and processing of large datasets."
   ]
  },
  {
   "cell_type": "markdown",
   "id": "ab570f4e",
   "metadata": {},
   "source": [
    "**Exercise 6 - Create a markdown cell with a table of Data Science tools**\n",
    "\n",
    "Create a single column table in this cell with the first row containing the header Data Science Tools. The subsequent three rows in the table should indicate three development environment open source tools used in data science.\n",
    "\n",
    "**Take a screenshot of the markdown cell and name it as 6-dstools.png (Images can be saved with either the .jpg or .png extension.)**\n",
    "\n",
    "_Hint: Refer to Lab: Using Markdowns in Jupyter Notebooks to create a table._"
   ]
  },
  {
   "cell_type": "markdown",
   "id": "99e392a6",
   "metadata": {},
   "source": [
    "### Data Science Tools\n",
    "\n",
    "\n",
    "|Data Science Tools|\n",
    "-----------------------\n",
    "|Jupyter Notebooks (formerly IPython Notebooks)|\n",
    "|RStudio|\n",
    "|Apache Zeppelin|"
   ]
  },
  {
   "cell_type": "markdown",
   "id": "a518bd45",
   "metadata": {},
   "source": [
    "**Exercise 7 - Create a markdown cell introducing arithmetic expression examples**\n",
    "\n",
    "Add a line in this cell with H3 style heading with text like:\n",
    "\n",
    "Below are a few examples of evaluating arithmetic expressions in Python.\n",
    "\n",
    "**Take a screenshot of the markdown cell and name it as 7-introarithmetic.png (Images can be saved with either the .jpg or .png extension.)**"
   ]
  },
  {
   "cell_type": "markdown",
   "id": "fed09050",
   "metadata": {},
   "source": [
    "### Below are a few examples of evaluating arithmetic expression in Python"
   ]
  },
  {
   "cell_type": "markdown",
   "id": "fd13ddc6",
   "metadata": {},
   "source": [
    "**Exercise 8 - Create a code cell to multiply and add numbers**\n",
    "\n",
    "In this code cell evaluate the expression (3*4)+5.\n",
    "Insert a comment line before the expression to explain the operation e.g.  This a simple arithmetic expression to mutiply then add integers.\n",
    "Then execute the cell to ensure the expression returns the expected output of 17.\n",
    "\n",
    "**Take a screenshot of the code cell with output and name it as 8-multiplyandaddintegers.png (Images can be saved with either the .jpg or .png extension.)**"
   ]
  },
  {
   "cell_type": "code",
   "execution_count": 1,
   "id": "c74aea64",
   "metadata": {},
   "outputs": [
    {
     "data": {
      "text/plain": [
       "17"
      ]
     },
     "execution_count": 1,
     "metadata": {},
     "output_type": "execute_result"
    }
   ],
   "source": [
    "# This a simple arithmetic expression to mutiply then add integers\n",
    "\n",
    "(3*4)+5"
   ]
  },
  {
   "cell_type": "markdown",
   "id": "ab6d8af2",
   "metadata": {},
   "source": [
    "**Exercise 9 - Create a code cell to convert minutes to hours**\n",
    "\n",
    "In this code cell write an expression that converts 200 minutes into hours.\n",
    "Insert a comment line before the expression to explain the operation e.g.  This will convert 200 minutes to hours by diving by 60.\n",
    "Run the cell to evaluate the expression.\n",
    "\n",
    "**Take a screenshot of the code cell with output and name it as 9-hourstominutes.png (Images can be saved with either the .jpg or .png extension.)**"
   ]
  },
  {
   "cell_type": "code",
   "execution_count": 6,
   "id": "821dc7a0",
   "metadata": {},
   "outputs": [
    {
     "name": "stdout",
     "output_type": "stream",
     "text": [
      "200 minutes in hours is: 3.3333333333333335 hours\n"
     ]
    }
   ],
   "source": [
    "# This line of code will convert 200 minutes to hours by diving by 60\n",
    "\n",
    "ans = 200/60\n",
    "\n",
    "print(f\"200 minutes in hours is: {ans} hours\")"
   ]
  },
  {
   "cell_type": "markdown",
   "id": "209f7d4e",
   "metadata": {},
   "source": [
    "**Exercise 10 - Insert a markdown cell to list Objectives**\n",
    "\n",
    "Below the introduction cell created in Exercise 3, insert a new markdown cell to list the objectives that this notebook covered (i.e. some of the key takeaways from the course). In this new cell start with an introductory line titled: Objectives: in bold font. Then using an unordered list (bullets) indicate 3 to 5 items covered in this notebook, such as List popular languages for Data Science.\n",
    "\n",
    "**Take a screenshot of the markdown cell and name it as 10-objectives.png (Images can be saved with either the .jpg or .png extension.)**"
   ]
  },
  {
   "cell_type": "markdown",
   "id": "e4cf845e",
   "metadata": {},
   "source": [
    "**Exercise 11 - Create a markdown cell to indicate the Author's name**\n",
    "\n",
    "In this markdown cell markdown cell include the following text Author in H2 style heading. Include your name as regular text below the word Author.\n",
    "\n",
    "**Take a screenshot of the markdown cell and name it as 11-authordetails.png (Images can be saved with either the .jpg or .png extension.)**"
   ]
  },
  {
   "cell_type": "markdown",
   "id": "51c6fe96",
   "metadata": {},
   "source": [
    "## Author\n",
    "A. M. Jonathan"
   ]
  }
 ],
 "metadata": {
  "kernelspec": {
   "display_name": "Python 3 (ipykernel)",
   "language": "python",
   "name": "python3"
  },
  "language_info": {
   "codemirror_mode": {
    "name": "ipython",
    "version": 3
   },
   "file_extension": ".py",
   "mimetype": "text/x-python",
   "name": "python",
   "nbconvert_exporter": "python",
   "pygments_lexer": "ipython3",
   "version": "3.10.9"
  }
 },
 "nbformat": 4,
 "nbformat_minor": 5
}
