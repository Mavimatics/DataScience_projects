{
 "cells": [
  {
   "cell_type": "markdown",
   "id": "8ca735cb",
   "metadata": {},
   "source": [
    "# Data Science Tools and Ecosystem"
   ]
  },
  {
   "cell_type": "markdown",
   "id": "449a868c",
   "metadata": {},
   "source": [
    "### Introduction\n",
    "\n",
    "Welcome to the fascinating world of Data Science Tools and the dynamic Ecosystem that empowers this cutting-edge field  🚀. In this section, we will explore the diverse array of technologies, frameworks, and platforms that fuel the data-driven revolution. From powerful programming languages and libraries to sophisticated data visualization tools and robust machine learning frameworks, the Data Science ecosystem offers an ever-expanding toolkit to extract insights and value from vast amounts of data. Whether you're a seasoned data practitioner or just beginning your journey, join us as we delve into the essential tools and resources that underpin the transformational impact of Data Science on industries and society alike. Let's embark on a journey to discover the art and science of turning raw data into actionable knowledge."
   ]
  },
  {
   "cell_type": "markdown",
   "id": "95b5eff4",
   "metadata": {},
   "source": [
    "**Objectives**\n",
    "\n",
    "Below are some objectives of this notebook:\n",
    "\n",
    "* List of some of the popular languages for Data Science.\n",
    "* List of some of the popular libraries for Data Science.\n",
    "* A few examples of evaluating arithmetic expressions in Python."
   ]
  },
  {
   "cell_type": "markdown",
   "id": "f9c32900",
   "metadata": {},
   "source": [
    "#### Types of programming languages used in data science\n",
    "\n",
    "Data scientists use a variety of programming languages for different tasks in their work. Some of the most popular languages used in data science includes:\n",
    "\n",
    "1. Python: Python is perhaps the most widely used language in the data science community due to its simplicity, versatility, and rich ecosystem of libraries like NumPy, Pandas, Matplotlib, and scikit-learn.\n",
    "\n",
    "2. R: R is another popular language among statisticians and data scientists, known for its extensive statistical and data visualization capabilities.\n",
    "\n",
    "3. SQL: While not a general-purpose programming language, SQL (Structured Query Language) is crucial for working with databases and querying data, making it an essential tool in data science.\n",
    "\n",
    "4. Julia: Julia is gaining traction in the data science community for its high-performance capabilities and ease of use, particularly in numerical and scientific computing tasks.\n",
    "\n",
    "5. Scala: Scala is often used with Apache Spark, a popular big data processing framework, making it a preferred choice for large-scale data analytics and distributed computing.\n",
    "\n",
    "6. Java: Java is commonly used for building data-intensive applications and enterprise-level data processing tasks.\n",
    "\n",
    "\n",
    "Each language has its strengths and weaknesses, and data scientists often choose the most appropriate one depending on the nature of the task, their familiarity with the language, and the specific tools and libraries available in each ecosystem."
   ]
  },
  {
   "cell_type": "markdown",
   "id": "3c532011",
   "metadata": {},
   "source": [
    "### Some common data science libraries\n",
    "\n",
    "There are numerous data science libraries available in various programming languages that empower data scientists to perform complex tasks efficiently. Some of the commonly used data science libraries include:\n",
    "\n",
    "**Python Libraries:**\n",
    "1. NumPy: Provides support for large, multi-dimensional arrays and matrices, along with mathematical functions to operate on these arrays.\n",
    "\n",
    "2. Pandas: Offers data manipulation and analysis tools, making it easy to work with structured data, such as data frames and time-series data.\n",
    "\n",
    "3. Matplotlib: A powerful plotting library for creating static, interactive, and publication-quality visualizations.\n",
    "\n",
    "4. seaborn: Built on top of Matplotlib, seaborn provides a high-level interface for creating attractive and informative statistical graphics.\n",
    "\n",
    "5. scikit-learn: A machine learning library offering various algorithms for classification, regression, clustering, and more.\n",
    "\n",
    "6. TensorFlow: Developed by Google, TensorFlow is an open-source library for deep learning, popularly used in building neural networks.\n",
    "\n",
    "7. Keras: A high-level neural networks API, built on top of TensorFlow, which simplifies the process of building and training deep learning models.\n",
    "\n",
    "8. PyTorch: A deep learning library widely used for research and development, known for its dynamic computation graph.\n",
    "\n",
    "**R Libraries:**\n",
    "1. ggplot2: A powerful data visualization library in R, based on the Grammar of Graphics principles.\n",
    "\n",
    "2. dplyr: Provides a set of functions for data manipulation, filtering, and summarization, making data wrangling easier.\n",
    "\n",
    "3. caret: An R package for training and evaluating machine learning models, providing a unified interface for various algorithms.\n",
    "\n",
    "\n",
    "**Other Libraries:**\n",
    "1. SQL (Structured Query Language): Although not a library, SQL is fundamental for database querying and data manipulation.\n",
    "\n",
    "2. Apache Spark: An open-source big data processing framework that provides efficient distributed data processing capabilities.\n",
    "\n",
    "3. Hadoop: Another big data framework that enables distributed storage and processing of large datasets."
   ]
  },
  {
   "cell_type": "markdown",
   "id": "99e392a6",
   "metadata": {},
   "source": [
    "### Data Science Tools\n",
    "\n",
    "\n",
    "|Data Science Tools|\n",
    "-----------------------\n",
    "|Jupyter Notebooks (formerly IPython Notebooks)|\n",
    "|RStudio|\n",
    "|Apache Zeppelin|"
   ]
  },
  {
   "cell_type": "markdown",
   "id": "fed09050",
   "metadata": {},
   "source": [
    "### Below are a few examples of evaluating arithmetic expression in Python"
   ]
  },
  {
   "cell_type": "code",
   "execution_count": 1,
   "id": "c74aea64",
   "metadata": {},
   "outputs": [
    {
     "data": {
      "text/plain": [
       "17"
      ]
     },
     "execution_count": 1,
     "metadata": {},
     "output_type": "execute_result"
    }
   ],
   "source": [
    "# This a simple arithmetic expression to mutiply then add integers\n",
    "\n",
    "(3*4)+5"
   ]
  },
  {
   "cell_type": "code",
   "execution_count": 6,
   "id": "821dc7a0",
   "metadata": {},
   "outputs": [
    {
     "name": "stdout",
     "output_type": "stream",
     "text": [
      "200 minutes in hours is: 3.3333333333333335 hours\n"
     ]
    }
   ],
   "source": [
    "# This line of code will convert 200 minutes to hours by diving by 60\n",
    "\n",
    "ans = 200/60\n",
    "\n",
    "print(f\"200 minutes in hours is: {ans} hours\")"
   ]
  },
  {
   "cell_type": "markdown",
   "id": "51c6fe96",
   "metadata": {},
   "source": [
    "## Author\n",
    "A. M. Jonathan"
   ]
  }
 ],
 "metadata": {
  "kernelspec": {
   "display_name": "Python 3 (ipykernel)",
   "language": "python",
   "name": "python3"
  },
  "language_info": {
   "codemirror_mode": {
    "name": "ipython",
    "version": 3
   },
   "file_extension": ".py",
   "mimetype": "text/x-python",
   "name": "python",
   "nbconvert_exporter": "python",
   "pygments_lexer": "ipython3",
   "version": "3.10.9"
  }
 },
 "nbformat": 4,
 "nbformat_minor": 5
}
